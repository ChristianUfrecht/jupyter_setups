{
 "cells": [
  {
   "cell_type": "code",
   "execution_count": 2,
   "metadata": {},
   "outputs": [
    {
     "name": "stdout",
     "output_type": "stream",
     "text": [
      "minimal E -12\n",
      "for x: [0 0 1 1]\n",
      "true?: [0 0 0 0]\n"
     ]
    },
    {
     "data": {
      "text/plain": [
       "(array([ 16.22594785, -19.13054826, -10.43741935,   1.34201976]),\n",
       " array([[ 0.66953922,  0.26267911,  0.62501842,  0.30342857],\n",
       "        [ 0.57070462, -0.76135599, -0.16548471, -0.2593224 ],\n",
       "        [ 0.44329331,  0.59229595, -0.5117398 , -0.43680537],\n",
       "        [ 0.17176877, -0.0228529 , -0.56576423,  0.80615387]]))"
      ]
     },
     "execution_count": 2,
     "metadata": {},
     "output_type": "execute_result"
    }
   ],
   "source": [
    "\n",
    "import numpy as np\n",
    "\n",
    "def binary_vector(n,n_max):\n",
    "    if n>n_max:\n",
    "        raise ValueError('n must be smaller than n_max')\n",
    "    form=len('{0:00b}'.format(n_max))\n",
    "    bin_str=('{0:0'+str(form) + 'b}').format(n)\n",
    "    return np.array([int(i) for i in list(bin_str)])\n",
    "\n",
    "def bin_iterator(vector_length):\n",
    "    \n",
    "    n_max=2**vector_length-1\n",
    "    return (binary_vector(n,n_max) for n in range(n_max+1))\n",
    "    \n",
    "\n",
    "\n",
    "\n",
    "    \n",
    "A=np.array([[1,2,3,5],[9,-3,5,-2], [2,7,-3,-2] , [1,2,0,-1]])\n",
    " \n",
    "Q=A+A.T  \n",
    "\n",
    "B=np.array([[1,2,0,0],[-1,1,0,0],[0,0,0,0],[0,0,0,0]])\n",
    "\n",
    "b=np.array([3,0,0,0])\n",
    "\n",
    "Etemp=np.inf\n",
    "for x in bin_iterator(4):\n",
    "    P=np.matmul(B,x.T)-b.T\n",
    "    E=np.matmul(x,np.matmul(Q,x.T))#+np.matmul(P.T,P)\n",
    "    if E<Etemp:\n",
    "        Etemp=E\n",
    "        xtemp=x\n",
    "\n",
    "print('minimal E', Etemp)\n",
    "print('for x:', xtemp)\n",
    "\n",
    "print('true?:', np.matmul(B,x.T)-b.T)\n",
    "\n",
    "\n"
   ]
  },
  {
   "cell_type": "code",
   "execution_count": 117,
   "metadata": {},
   "outputs": [
    {
     "ename": "ValueError",
     "evalue": "matmul: Input operand 1 has a mismatch in its core dimension 0, with gufunc signature (n?,k),(k,m?)->(n?,m?) (size 4 is different from 2)",
     "output_type": "error",
     "traceback": [
      "\u001b[1;31m---------------------------------------------------------------------------\u001b[0m",
      "\u001b[1;31mValueError\u001b[0m                                Traceback (most recent call last)",
      "\u001b[1;32m<ipython-input-117-72a74436f88d>\u001b[0m in \u001b[0;36m<module>\u001b[1;34m\u001b[0m\n\u001b[0;32m      1\u001b[0m \u001b[0mb\u001b[0m\u001b[1;33m=\u001b[0m\u001b[0mnp\u001b[0m\u001b[1;33m.\u001b[0m\u001b[0marray\u001b[0m\u001b[1;33m(\u001b[0m\u001b[1;33m[\u001b[0m\u001b[1;36m3\u001b[0m\u001b[1;33m,\u001b[0m\u001b[1;36m0\u001b[0m\u001b[1;33m]\u001b[0m\u001b[1;33m)\u001b[0m\u001b[1;33m\u001b[0m\u001b[1;33m\u001b[0m\u001b[0m\n\u001b[1;32m----> 2\u001b[1;33m \u001b[0mnp\u001b[0m\u001b[1;33m.\u001b[0m\u001b[0mmatmul\u001b[0m\u001b[1;33m(\u001b[0m\u001b[0mB\u001b[0m\u001b[1;33m,\u001b[0m\u001b[0mx\u001b[0m\u001b[1;33m.\u001b[0m\u001b[0mT\u001b[0m\u001b[1;33m)\u001b[0m\u001b[1;33m\u001b[0m\u001b[1;33m\u001b[0m\u001b[0m\n\u001b[0m\u001b[0;32m      3\u001b[0m \u001b[0mb\u001b[0m\u001b[1;33m.\u001b[0m\u001b[0mshape\u001b[0m\u001b[1;33m\u001b[0m\u001b[1;33m\u001b[0m\u001b[0m\n",
      "\u001b[1;31mValueError\u001b[0m: matmul: Input operand 1 has a mismatch in its core dimension 0, with gufunc signature (n?,k),(k,m?)->(n?,m?) (size 4 is different from 2)"
     ]
    }
   ],
   "source": []
  },
  {
   "cell_type": "code",
   "execution_count": null,
   "metadata": {},
   "outputs": [],
   "source": []
  }
 ],
 "metadata": {
  "kernelspec": {
   "display_name": "Python 3",
   "language": "python",
   "name": "python3"
  },
  "language_info": {
   "codemirror_mode": {
    "name": "ipython",
    "version": 3
   },
   "file_extension": ".py",
   "mimetype": "text/x-python",
   "name": "python",
   "nbconvert_exporter": "python",
   "pygments_lexer": "ipython3",
   "version": "3.8.5"
  }
 },
 "nbformat": 4,
 "nbformat_minor": 4
}
