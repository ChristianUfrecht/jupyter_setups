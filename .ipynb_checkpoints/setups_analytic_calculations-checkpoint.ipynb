{
 "cells": [
  {
   "cell_type": "code",
   "execution_count": 2,
   "id": "107befdf",
   "metadata": {},
   "outputs": [],
   "source": [
    "from sympy.abc import a,b,c,d,e,f,g,h,i,j,k,l,m,n,o,p,q,r,s,t,u,v,w,x,y,z\n",
    "from sympy.abc import A,B,C,D,E,F,G,H,I,J,K,L,M,N,O,P,Q,R,S,T,U,V,W,X,Y,Z\n",
    "from sympy.abc import alpha, beta, gamma, delta, epsilon, chi, zeta, theta, phi, omega,tau\n",
    "from sympy import I, pi, Sum, oo, exp, cos, sin\n",
    "import sympy as sy\n"
   ]
  },
  {
   "cell_type": "markdown",
   "id": "9537fabe",
   "metadata": {},
   "source": [
    "Summation:\n",
    "<br>\n",
    "<br>\n",
    "$\\quad\\quad\\quad  \\sum_{k=a}^b f(k) \\quad\\quad\\quad$   Sum( f(k),(k,a,b)).doit()\n",
    "<br>\n",
    "<br>\n",
    "sum to infinity:  oo\n",
    "\n",
    "<br>\n",
    "accessing piecewise expressions: x.args[0]"
   ]
  }
 ],
 "metadata": {
  "kernelspec": {
   "display_name": "Python 3",
   "language": "python",
   "name": "python3"
  },
  "language_info": {
   "codemirror_mode": {
    "name": "ipython",
    "version": 3
   },
   "file_extension": ".py",
   "mimetype": "text/x-python",
   "name": "python",
   "nbconvert_exporter": "python",
   "pygments_lexer": "ipython3",
   "version": "3.8.8"
  }
 },
 "nbformat": 4,
 "nbformat_minor": 5
}
